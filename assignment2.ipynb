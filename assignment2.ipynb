{
 "cells": [
  {
   "cell_type": "raw",
   "id": "b9c72699",
   "metadata": {},
   "source": [
    "1) the two types of Boolean data types are:-\n",
    "    True\n",
    "    False\n",
    "2) the three different types of boolean operator:-\n",
    "    and operator\n",
    "    or operator\n",
    "    not operator\n"
   ]
  },
  {
   "cell_type": "raw",
   "id": "8093ec04",
   "metadata": {},
   "source": [
    "3)\n",
    "and operator truth table:-\n",
    "    true and true=true\n",
    "    true and false=false\n",
    "    false and true=false\n",
    "    false and false=false\n",
    "or operator truth table-\n",
    "    true or true=true\n",
    "    true or false=true\n",
    "    false or true=true\n",
    "    false or false=false\n",
    "not operator truth table:-\n",
    "    not true=flase\n",
    "    not false=true"
   ]
  },
  {
   "cell_type": "raw",
   "id": "d956e908",
   "metadata": {},
   "source": [
    "4)  false\n",
    "    false\n",
    "    true\n",
    "    false\n",
    "    false\n",
    "    true\n",
    "5) The 6 comparision operators are:-\n",
    " \"==\"(equality operator)\n",
    " \">\"(greater than operator)\n",
    " '<'(less than operator)\n",
    " '!='(not equal to)\n",
    " '>='(greater than or equal to)\n",
    " '<='(less than or equal to)\n",
    "6)the equal to and assignment operator are different, we use assignment oerator while assigning a value to a variable or reassigning the value to a variable but whereas equality operator is used to check weather both the values or variables or variables and values are equal, it returns true if both are equal else false.\n",
    "eg for assignment operator \n",
    "    a=4\n",
    "    a=5\n",
    "eg for equality operator:\n",
    "    if 5==3:\n",
    "    if a==4:\n",
    "    if a==b\n",
    "7)The three blocks of code are:\n",
    "    if block\n",
    "    if block\n",
    "    else block\n",
    "8)\n",
    " "
   ]
  },
  {
   "cell_type": "code",
   "execution_count": 4,
   "id": "7322750b",
   "metadata": {},
   "outputs": [
    {
     "name": "stdout",
     "output_type": "stream",
     "text": [
      "enter the spam value3\n",
      "Greetings!\n"
     ]
    }
   ],
   "source": [
    "spam=int(input(\"enter the spam value\"))\n",
    "if spam==1:\n",
    "    print(\"hello\")\n",
    "elif spam==2:\n",
    "    print(\"howdy\")\n",
    "else:\n",
    "    print('Greetings!')"
   ]
  },
  {
   "cell_type": "raw",
   "id": "aefab30f",
   "metadata": {},
   "source": [
    "9)if code is stuck in endless loop we shold press ctrl+c to terminate\n",
    "10) the difference between break and continue statements are:\n",
    "    the break statement helps to come out of the loop even if the loop is still in executable condition.\n",
    "    whereas the continue statement helps to skip the current loop interation and procede to next interation but it will notcome out the loop \n",
    "11) in for loop \n",
    "range(10):-it defines the variable to start with 0 by default and ends with 9 with step size of 1 by default\n",
    "range(0,10):-it defines the variable to start with 0 and ends with 9 with step size of 1 by default\n",
    "range(0.10,1):-it defines the variable to start with 0 and ends with 9 with step size of 1 by default\n",
    "12)"
   ]
  },
  {
   "cell_type": "code",
   "execution_count": 1,
   "id": "d693ce0a",
   "metadata": {},
   "outputs": [
    {
     "name": "stdout",
     "output_type": "stream",
     "text": [
      "1\n",
      "2\n",
      "3\n",
      "4\n",
      "5\n",
      "6\n",
      "7\n",
      "8\n",
      "9\n",
      "10\n",
      "1\n",
      "2\n",
      "3\n",
      "4\n",
      "5\n",
      "6\n",
      "7\n",
      "8\n",
      "9\n",
      "10\n"
     ]
    }
   ],
   "source": [
    "for i in range(1,11):\n",
    "    print(i)\n",
    "i=1\n",
    "while i<=10:\n",
    "    print(i)\n",
    "    i+=1"
   ]
  },
  {
   "cell_type": "raw",
   "id": "85aab0a9",
   "metadata": {},
   "source": [
    "13)bacon()"
   ]
  },
  {
   "cell_type": "code",
   "execution_count": null,
   "id": "d18fcf88",
   "metadata": {},
   "outputs": [],
   "source": []
  }
 ],
 "metadata": {
  "kernelspec": {
   "display_name": "Python 3 (ipykernel)",
   "language": "python",
   "name": "python3"
  },
  "language_info": {
   "codemirror_mode": {
    "name": "ipython",
    "version": 3
   },
   "file_extension": ".py",
   "mimetype": "text/x-python",
   "name": "python",
   "nbconvert_exporter": "python",
   "pygments_lexer": "ipython3",
   "version": "3.9.12"
  }
 },
 "nbformat": 4,
 "nbformat_minor": 5
}
